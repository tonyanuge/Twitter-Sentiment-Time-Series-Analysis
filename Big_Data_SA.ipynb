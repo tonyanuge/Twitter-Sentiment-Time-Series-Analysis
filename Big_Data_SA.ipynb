{
 "cells": [
  {
   "cell_type": "code",
   "execution_count": 62,
   "id": "5f1066da",
   "metadata": {},
   "outputs": [
    {
     "name": "stdout",
     "output_type": "stream",
     "text": [
      "24/04/27 16:15:47 WARN CSVHeaderChecker: CSV header does not conform to the schema.\n",
      " Header: 0, 1467810369, Mon Apr 06 22:19:45 PDT 2009, NO_QUERY, _TheSpecialOne_, @switchfoot http://twitpic.com/2y1zl - Awww, that's a bummer.  You shoulda got David Carr of Third Day to do it. ;D\n",
      " Schema: tweet_id, timestamp, date, source, username, text\n",
      "Expected: tweet_id but found: 0\n",
      "CSV file: hdfs://localhost:9000/CA2/ProjectTweets.csv\n",
      "+--------+----------+--------------------+--------+---------------+--------------------+\n",
      "|tweet_id| timestamp|                date|  source|       username|                text|\n",
      "+--------+----------+--------------------+--------+---------------+--------------------+\n",
      "|       1|1467810672|Mon Apr 06 22:19:...|NO_QUERY|  scotthamilton|is upset that he ...|\n",
      "|       2|1467810917|Mon Apr 06 22:19:...|NO_QUERY|       mattycus|@Kenichan I dived...|\n",
      "|       3|1467811184|Mon Apr 06 22:19:...|NO_QUERY|        ElleCTF|my whole body fee...|\n",
      "|       4|1467811193|Mon Apr 06 22:19:...|NO_QUERY|         Karoli|@nationwideclass ...|\n",
      "|       5|1467811372|Mon Apr 06 22:20:...|NO_QUERY|       joy_wolf|@Kwesidei not the...|\n",
      "|       6|1467811592|Mon Apr 06 22:20:...|NO_QUERY|        mybirch|         Need a hug |\n",
      "|       7|1467811594|Mon Apr 06 22:20:...|NO_QUERY|           coZZ|@LOLTrish hey  lo...|\n",
      "|       8|1467811795|Mon Apr 06 22:20:...|NO_QUERY|2Hood4Hollywood|@Tatiana_K nope t...|\n",
      "|       9|1467812025|Mon Apr 06 22:20:...|NO_QUERY|        mimismo|@twittera que me ...|\n",
      "|      10|1467812416|Mon Apr 06 22:20:...|NO_QUERY| erinx3leannexo|spring break in p...|\n",
      "|      11|1467812579|Mon Apr 06 22:20:...|NO_QUERY|   pardonlauren|I just re-pierced...|\n",
      "|      12|1467812723|Mon Apr 06 22:20:...|NO_QUERY|           TLeC|@caregiving I cou...|\n",
      "|      13|1467812771|Mon Apr 06 22:20:...|NO_QUERY|robrobbierobert|@octolinz16 It it...|\n",
      "|      14|1467812784|Mon Apr 06 22:20:...|NO_QUERY|    bayofwolves|@smarrison i woul...|\n",
      "|      15|1467812799|Mon Apr 06 22:20:...|NO_QUERY|     HairByJess|@iamjazzyfizzle I...|\n",
      "|      16|1467812964|Mon Apr 06 22:20:...|NO_QUERY| lovesongwriter|Hollis' death sce...|\n",
      "|      17|1467813137|Mon Apr 06 22:20:...|NO_QUERY|       armotley|about to file taxes |\n",
      "|      18|1467813579|Mon Apr 06 22:20:...|NO_QUERY|     starkissed|@LettyA ahh ive a...|\n",
      "|      19|1467813782|Mon Apr 06 22:20:...|NO_QUERY|      gi_gi_bee|@FakerPattyPattz ...|\n",
      "|      20|1467813985|Mon Apr 06 22:20:...|NO_QUERY|         quanvu|@alydesigns i was...|\n",
      "+--------+----------+--------------------+--------+---------------+--------------------+\n",
      "only showing top 20 rows\n",
      "\n",
      "24/04/27 16:15:47 WARN CSVHeaderChecker: CSV header does not conform to the schema.\n",
      " Header: 0, 1467810369, Mon Apr 06 22:19:45 PDT 2009, NO_QUERY, _TheSpecialOne_, @switchfoot http://twitpic.com/2y1zl - Awww, that's a bummer.  You shoulda got David Carr of Third Day to do it. ;D\n",
      " Schema: tweet_id, timestamp, date, source, username, text\n",
      "Expected: tweet_id but found: 0\n",
      "CSV file: hdfs://localhost:9000/CA2/ProjectTweets.csv\n"
     ]
    },
    {
     "name": "stderr",
     "output_type": "stream",
     "text": [
      "                                                                                \r"
     ]
    }
   ],
   "source": [
    "from pyspark.sql import SparkSession\n",
    "from pyspark.sql.types import StructType, StructField, StringType\n",
    "\n",
    "\n",
    "# Define the schema based on your data structure\n",
    "schema = StructType([\n",
    "    StructField(\"tweet_id\", StringType(), True),\n",
    "    StructField(\"timestamp\", StringType(), True),\n",
    "    StructField(\"date\", StringType(), True),\n",
    "    StructField(\"source\", StringType(), True),\n",
    "    StructField(\"username\", StringType(), True),\n",
    "    StructField(\"text\", StringType(), True),\n",
    "])\n",
    "\n",
    "# Initialize SparkSession with MongoDB configurations\n",
    "spark = SparkSession.builder \\\n",
    "    .appName(\"Load CSV from HDFS to MongoDB\") \\\n",
    "    .config(\"spark.mongodb.output.uri\", \"mongodb://127.0.0.1:27017/myNewDatabase.myCollection\") \\\n",
    "    .config(\"spark.jars.packages\", \"org.mongodb.spark:mongo-spark-connector_2.12:10.0.0\") \\\n",
    "    .getOrCreate()\n",
    "\n",
    "# Load the CSV file\n",
    "df = spark.read.csv(\n",
    "    \"hdfs://localhost:9000/CA2/ProjectTweets.csv\",\n",
    "    schema=schema,\n",
    "    header=True\n",
    ")\n",
    "\n",
    "# Show DataFrame to verify the data (optional)\n",
    "df.show()\n",
    "\n",
    "# Write data to MongoDB\n",
    "df.write.format(\"mongo\") \\\n",
    "    .mode(\"overwrite\") \\\n",
    "    .option(\"uri\", \"mongodb://127.0.0.1:27017/myNewDatabase.myCollection\") \\\n",
    "    .option(\"database\", \"myNewDatabase\") \\\n",
    "    .option(\"collection\", \"myCollection\") \\\n",
    "    .save()\n",
    "\n",
    "    \n",
    "# Stop the Spark session\n",
    "spark.stop()\n"
   ]
  },
  {
   "cell_type": "code",
   "execution_count": 7,
   "id": "d6552bd3",
   "metadata": {},
   "outputs": [
    {
     "name": "stderr",
     "output_type": "stream",
     "text": [
      "24/05/11 09:08:59 WARN SparkSession: Using an existing Spark session; only runtime SQL configurations will take effect.\n"
     ]
    }
   ],
   "source": [
    "from pyspark.sql import SparkSession\n",
    "\n",
    "spark = SparkSession.builder \\\n",
    "    .appName(\"MongoDB Integration\") \\\n",
    "    .config(\"spark.mongodb.input.uri\", \"mongodb://localhost:27017/myNewDatabase.myCollection\") \\\n",
    "    .config(\"spark.mongodb.output.uri\", \"mongodb://localhost:27017/myNewDatabase.myCollection\") \\\n",
    "    .getOrCreate()\n"
   ]
  },
  {
   "cell_type": "code",
   "execution_count": null,
   "id": "e221a2c5",
   "metadata": {},
   "outputs": [],
   "source": [
    "df = spark.read.format(\"mongo\").load()"
   ]
  },
  {
   "cell_type": "code",
   "execution_count": 1,
   "id": "01eb6884",
   "metadata": {},
   "outputs": [
    {
     "name": "stderr",
     "output_type": "stream",
     "text": [
      "24/05/11 09:17:15 WARN Utils: Your hostname, muhammad-VM resolves to a loopback address: 127.0.1.1; using 10.0.2.15 instead (on interface enp0s3)\n",
      "24/05/11 09:17:15 WARN Utils: Set SPARK_LOCAL_IP if you need to bind to another address\n"
     ]
    },
    {
     "name": "stdout",
     "output_type": "stream",
     "text": [
      ":: loading settings :: url = jar:file:/home/hduser/.local/lib/python3.10/site-packages/pyspark/jars/ivy-2.5.1.jar!/org/apache/ivy/core/settings/ivysettings.xml\n"
     ]
    },
    {
     "name": "stderr",
     "output_type": "stream",
     "text": [
      "Ivy Default Cache set to: /home/hduser/.ivy2/cache\n",
      "The jars for the packages stored in: /home/hduser/.ivy2/jars\n",
      "org.mongodb.spark#mongo-spark-connector_2.12 added as a dependency\n",
      ":: resolving dependencies :: org.apache.spark#spark-submit-parent-8b0b5807-cb0d-480d-9e5e-9eaed63b3168;1.0\n",
      "\tconfs: [default]\n",
      "\tfound org.mongodb.spark#mongo-spark-connector_2.12;3.0.1 in central\n",
      "\tfound org.mongodb#mongodb-driver-sync;4.0.5 in central\n",
      "\tfound org.mongodb#bson;4.0.5 in central\n",
      "\tfound org.mongodb#mongodb-driver-core;4.0.5 in central\n",
      ":: resolution report :: resolve 295ms :: artifacts dl 4ms\n",
      "\t:: modules in use:\n",
      "\torg.mongodb#bson;4.0.5 from central in [default]\n",
      "\torg.mongodb#mongodb-driver-core;4.0.5 from central in [default]\n",
      "\torg.mongodb#mongodb-driver-sync;4.0.5 from central in [default]\n",
      "\torg.mongodb.spark#mongo-spark-connector_2.12;3.0.1 from central in [default]\n",
      "\t---------------------------------------------------------------------\n",
      "\t|                  |            modules            ||   artifacts   |\n",
      "\t|       conf       | number| search|dwnlded|evicted|| number|dwnlded|\n",
      "\t---------------------------------------------------------------------\n",
      "\t|      default     |   4   |   0   |   0   |   0   ||   4   |   0   |\n",
      "\t---------------------------------------------------------------------\n",
      ":: retrieving :: org.apache.spark#spark-submit-parent-8b0b5807-cb0d-480d-9e5e-9eaed63b3168\n",
      "\tconfs: [default]\n",
      "\t0 artifacts copied, 4 already retrieved (0kB/7ms)\n",
      "24/05/11 09:17:16 WARN NativeCodeLoader: Unable to load native-hadoop library for your platform... using builtin-java classes where applicable\n",
      "Setting default log level to \"WARN\".\n",
      "To adjust logging level use sc.setLogLevel(newLevel). For SparkR, use setLogLevel(newLevel).\n"
     ]
    }
   ],
   "source": [
    "from pyspark.sql import SparkSession\n",
    "\n",
    "# Initialize Spark Session with MongoDB Spark Connector\n",
    "spark = SparkSession.builder \\\n",
    "    .appName(\"MongoDB Integration\") \\\n",
    "    .config(\"spark.mongodb.input.uri\", \"mongodb://localhost:27017/myNewDatabase.myCollection\") \\\n",
    "    .config(\"spark.mongodb.output.uri\", \"mongodb://localhost:27017/myNewDatabase.myCollection\") \\\n",
    "    .config(\"spark.jars.packages\", \"org.mongodb.spark:mongo-spark-connector_2.12:3.0.1\") \\\n",
    "    .getOrCreate()\n"
   ]
  },
  {
   "cell_type": "code",
   "execution_count": 2,
   "id": "c01cb09f",
   "metadata": {},
   "outputs": [
    {
     "name": "stderr",
     "output_type": "stream",
     "text": [
      "                                                                                \r"
     ]
    }
   ],
   "source": [
    "df = spark.read.format(\"mongo\").load()"
   ]
  },
  {
   "cell_type": "code",
   "execution_count": 3,
   "id": "1d07f35f",
   "metadata": {},
   "outputs": [],
   "source": [
    "# Register the DataFrame as a temporary view so i can perform SQL queries\n",
    "df.createOrReplaceTempView(\"tweets\")"
   ]
  },
  {
   "cell_type": "code",
   "execution_count": 4,
   "id": "8ee734d8",
   "metadata": {},
   "outputs": [],
   "source": [
    "# Count tweets by username\n",
    "tweets_by_username = spark.sql(\"\"\"\n",
    "    SELECT username, COUNT(*) as tweet_count\n",
    "    FROM tweets\n",
    "    GROUP BY username\n",
    "    ORDER BY tweet_count DESC\n",
    "\"\"\")\n"
   ]
  },
  {
   "cell_type": "code",
   "execution_count": 5,
   "id": "26217a0e",
   "metadata": {},
   "outputs": [
    {
     "name": "stderr",
     "output_type": "stream",
     "text": [
      "[Stage 1:===================================================>       (7 + 1) / 8]\r"
     ]
    },
    {
     "name": "stdout",
     "output_type": "stream",
     "text": [
      "+---------------+-----------+\n",
      "|       username|tweet_count|\n",
      "+---------------+-----------+\n",
      "|       lost_dog|        549|\n",
      "|        webwoke|        345|\n",
      "|       tweetpet|        310|\n",
      "|SallytheShizzle|        281|\n",
      "|    VioletsCRUK|        279|\n",
      "|    mcraddictal|        276|\n",
      "|       tsarnick|        248|\n",
      "|    what_bugs_u|        246|\n",
      "|    Karen230683|        238|\n",
      "|      DarkPiano|        236|\n",
      "|   SongoftheOss|        227|\n",
      "|      Jayme1988|        225|\n",
      "|         keza34|        219|\n",
      "| ramdomthoughts|        216|\n",
      "|      shanajaca|        213|\n",
      "|         wowlew|        212|\n",
      "|   TraceyHewins|        211|\n",
      "|     nuttychris|        211|\n",
      "|   thisgoeshere|        207|\n",
      "|     Spidersamm|        205|\n",
      "+---------------+-----------+\n",
      "only showing top 20 rows\n",
      "\n"
     ]
    },
    {
     "name": "stderr",
     "output_type": "stream",
     "text": [
      "\r",
      "[Stage 3:>                                                          (0 + 2) / 2]\r",
      "\r",
      "                                                                                \r"
     ]
    }
   ],
   "source": [
    "# Show the result of the SQL query\n",
    "tweets_by_username.show()"
   ]
  },
  {
   "cell_type": "code",
   "execution_count": 6,
   "id": "dd3b3afc",
   "metadata": {},
   "outputs": [],
   "source": [
    "# Filter tweets containing specific words like happy\n",
    "tweets_with_specific_word = spark.sql(\"\"\"\n",
    "    SELECT *\n",
    "    FROM tweets\n",
    "    WHERE text LIKE '%happy%'\n",
    "\"\"\")"
   ]
  },
  {
   "cell_type": "code",
   "execution_count": 7,
   "id": "e8d22494",
   "metadata": {},
   "outputs": [
    {
     "name": "stdout",
     "output_type": "stream",
     "text": [
      "+--------------------+--------------------+-------------------+--------+--------------------+----------+--------+--------------+\n",
      "|                 _id|                date|     formatted_date|  source|                text| timestamp|tweet_id|      username|\n",
      "+--------------------+--------------------+-------------------+--------+--------------------+----------+--------+--------------+\n",
      "|{662d16a353867b39...|Mon Apr 06 22:22:...|2009-04-07 06:22:05|NO_QUERY|@Viennah Yay! I'm...|1467819650|      45|     antzpantz|\n",
      "|{662d16a353867b39...|Mon Apr 06 22:25:...|2009-04-07 06:25:49|NO_QUERY|wonders why someo...|1467834001|      79|     emo_holic|\n",
      "|{662d16a353867b39...|Sat Apr 18 08:51:...|2009-04-18 16:51:51|NO_QUERY|@Alyssa_Milano Th...|1551364639|  816238|  Rachael90210|\n",
      "|{662d16a353867b39...|Mon Apr 06 22:28:...|2009-04-07 06:28:04|NO_QUERY|I'm missing you b...|1467842377|     134|       bnr0201|\n",
      "|{662d16a353867b39...|Mon Apr 06 22:31:...|2009-04-07 06:31:43|NO_QUERY|@penndbad send me...|1467856497|     173|       Missy__|\n",
      "|{662d16a353867b39...|Sat Apr 18 09:01:...|2009-04-18 17:01:57|NO_QUERY|Is extreamly happ...|1551428330|  816435| haha3waitwhat|\n",
      "|{662d16a353867b39...|Sat Apr 18 09:12:...|2009-04-18 17:12:03|NO_QUERY|today I'm happy ,...|1551492681|  816648|     Ursha1991|\n",
      "|{662d16a353867b39...|Sat Apr 18 09:16:...|2009-04-18 17:16:41|NO_QUERY|Once again thanks...|1551522176|  816694|hypnotistchris|\n",
      "|{662d16a353867b39...|Sat Apr 18 09:21:...|2009-04-18 17:21:35|NO_QUERY|SO happy I ran in...|1551553328|  816751|        joefoe|\n",
      "|{662d16a353867b39...|Mon Apr 06 23:06:...|2009-04-07 07:06:21|NO_QUERY|I'm tired. I feel...|1467981584|     667|        triner|\n",
      "|{662d16a353867b39...|Sat Apr 18 09:27:...|2009-04-18 17:27:06|NO_QUERY|On the way to lon...|1551587576|  816938| howconvenient|\n",
      "|{662d16a353867b39...|Mon Apr 06 23:15:...|2009-04-07 07:15:57|NO_QUERY|Work laptop is of...|1468014571|     827|      Monika29|\n",
      "|{662d16a353867b39...|Mon Apr 06 23:21:...|2009-04-07 07:21:35|NO_QUERY|happy for Coach S...|1468032862|     886|  lamarmcarter|\n",
      "|{662d16a353867b39...|Mon Apr 06 23:28:...|2009-04-07 07:28:38|NO_QUERY|@dweeman why aren...|1468055249|     994|       livvy22|\n",
      "|{662d16a353867b39...|Sat Apr 18 09:37:...|2009-04-18 17:37:03|NO_QUERY|@TeLisaD: Be happ...|1551650770|  817116|thesecretdiary|\n",
      "|{662d16a353867b39...|Sat Apr 18 09:42:...|2009-04-18 17:42:01|NO_QUERY|@Seradox I'll be ...|1551682176|  817206|    amiokamoto|\n",
      "|{662d16a353867b39...|Mon Apr 06 23:43:...|2009-04-07 07:43:12|NO_QUERY|It just makes me ...|1468101243|    1182| ShannaMoakler|\n",
      "|{662d16a353867b39...|Mon Apr 06 23:43:...|2009-04-07 07:43:45|NO_QUERY|It just makes me ...|1468102926|    1193| ShannaMoakler|\n",
      "|{662d16a353867b39...|Mon Apr 06 23:46:...|2009-04-07 07:46:44|NO_QUERY|im so tired this ...|1468111947|    1226|     tori_owns|\n",
      "|{662d16a353867b39...|Mon Apr 06 23:55:...|2009-04-07 07:55:14|NO_QUERY|I was woken up fr...|1468137623|    1366| kussenvandeth|\n",
      "+--------------------+--------------------+-------------------+--------+--------------------+----------+--------+--------------+\n",
      "only showing top 20 rows\n",
      "\n"
     ]
    }
   ],
   "source": [
    "# Show some of these filtered tweets\n",
    "tweets_with_specific_word.show()"
   ]
  },
  {
   "cell_type": "code",
   "execution_count": 8,
   "id": "4108f685",
   "metadata": {},
   "outputs": [
    {
     "name": "stderr",
     "output_type": "stream",
     "text": [
      "[Stage 5:============================================>              (6 + 2) / 8]\r"
     ]
    },
    {
     "name": "stdout",
     "output_type": "stream",
     "text": [
      "+--------+-----------+\n",
      "|username|tweet_count|\n",
      "+--------+-----------+\n",
      "|lost_dog|        549|\n",
      "+--------+-----------+\n",
      "\n"
     ]
    },
    {
     "name": "stderr",
     "output_type": "stream",
     "text": [
      "\r",
      "                                                                                \r"
     ]
    }
   ],
   "source": [
    "# SQL Query to find the username with the most tweets\n",
    "max_tweets_by_user = spark.sql(\"\"\"\n",
    "    SELECT username, COUNT(*) AS tweet_count\n",
    "    FROM tweets\n",
    "    GROUP BY username\n",
    "    ORDER BY tweet_count DESC\n",
    "    LIMIT 1\n",
    "\"\"\")\n",
    "\n",
    "# Show the result\n",
    "max_tweets_by_user.show(5)\n"
   ]
  },
  {
   "cell_type": "code",
   "execution_count": 9,
   "id": "342e91f8",
   "metadata": {},
   "outputs": [
    {
     "name": "stderr",
     "output_type": "stream",
     "text": [
      "[Stage 10:>                                                         (0 + 2) / 2]\r"
     ]
    },
    {
     "name": "stdout",
     "output_type": "stream",
     "text": [
      "+---------------+---------------+\n",
      "|       username|avg_tweet_count|\n",
      "+---------------+---------------+\n",
      "|        meeagen|            1.0|\n",
      "|        thePuck|            1.0|\n",
      "|       irlbinky|            1.0|\n",
      "|        Rettles|            1.0|\n",
      "|  RosieMeikle_x|            1.0|\n",
      "|     prbyrachel|            1.0|\n",
      "|       Ldnshmoo|            1.0|\n",
      "|        mangy20|            1.0|\n",
      "|      johntyyk3|            1.0|\n",
      "|          d8mtr|            1.0|\n",
      "|      jamiekim2|            1.0|\n",
      "| saratpediredla|            1.0|\n",
      "|    Emogirltalk|            1.0|\n",
      "|       amie_m66|            1.0|\n",
      "|     jenica1201|            1.0|\n",
      "|Becca_Back2Good|            1.0|\n",
      "|      sammy_boy|            1.0|\n",
      "|      DanielYeo|            1.0|\n",
      "|          W0CKY|            1.0|\n",
      "|  divingkid2001|            1.0|\n",
      "+---------------+---------------+\n",
      "only showing top 20 rows\n",
      "\n"
     ]
    },
    {
     "name": "stderr",
     "output_type": "stream",
     "text": [
      "\r",
      "                                                                                \r"
     ]
    }
   ],
   "source": [
    "# Calculate the average number of tweets per user\n",
    "avg_tweets_by_user = spark.sql(\"\"\"\n",
    "    SELECT username, AVG(tweet_count) AS avg_tweet_count\n",
    "    FROM (\n",
    "        SELECT username, COUNT(*) AS tweet_count\n",
    "        FROM tweets\n",
    "        GROUP BY username, date\n",
    "    )\n",
    "    GROUP BY username\n",
    "\"\"\")\n",
    "avg_tweets_by_user.show()\n"
   ]
  },
  {
   "cell_type": "code",
   "execution_count": 10,
   "id": "52e998f3",
   "metadata": {},
   "outputs": [
    {
     "name": "stderr",
     "output_type": "stream",
     "text": [
      "[Stage 14:===========================================>              (6 + 2) / 8]\r"
     ]
    },
    {
     "name": "stdout",
     "output_type": "stream",
     "text": [
      "+---------------+----+------------+\n",
      "|       username|year|total_tweets|\n",
      "+---------------+----+------------+\n",
      "|     megan_rice|NULL|          15|\n",
      "|        Daniiej|NULL|           3|\n",
      "|     prbyrachel|NULL|           1|\n",
      "|    beesarahlee|NULL|           1|\n",
      "|   willjackson8|NULL|           1|\n",
      "|         MeghTW|NULL|           1|\n",
      "|   candicebunny|NULL|           1|\n",
      "|stranger_danger|NULL|          14|\n",
      "|  divingkid2001|NULL|           1|\n",
      "|   christaflint|NULL|           2|\n",
      "|kathleeenlalala|NULL|           7|\n",
      "|    galovesongs|NULL|           3|\n",
      "|    Lilli_Allen|NULL|           1|\n",
      "| MusicLover7196|NULL|           6|\n",
      "|        caaaami|NULL|           1|\n",
      "|       J_Moneyy|NULL|           7|\n",
      "|        SoEdith|NULL|           5|\n",
      "|     convoy3571|NULL|          13|\n",
      "|       kyrabeth|NULL|           1|\n",
      "|     amandajoyy|NULL|           1|\n",
      "+---------------+----+------------+\n",
      "only showing top 20 rows\n",
      "\n"
     ]
    },
    {
     "name": "stderr",
     "output_type": "stream",
     "text": [
      "\r",
      "                                                                                \r"
     ]
    }
   ],
   "source": [
    "# Calculate the total number of tweets per year by each user\n",
    "total_tweets_per_year_by_user = spark.sql(\"\"\"\n",
    "    SELECT username, YEAR(date) AS year, COUNT(*) AS total_tweets\n",
    "    FROM tweets\n",
    "    GROUP BY username, YEAR(date)\n",
    "\"\"\")\n",
    "total_tweets_per_year_by_user.show()\n"
   ]
  },
  {
   "cell_type": "code",
   "execution_count": 11,
   "id": "d4cec755",
   "metadata": {},
   "outputs": [
    {
     "name": "stderr",
     "output_type": "stream",
     "text": [
      "[Stage 17:==================================================>       (7 + 1) / 8]\r"
     ]
    },
    {
     "name": "stdout",
     "output_type": "stream",
     "text": [
      "+------------+\n",
      "|total_tweets|\n",
      "+------------+\n",
      "|     1599999|\n",
      "+------------+\n",
      "\n"
     ]
    },
    {
     "name": "stderr",
     "output_type": "stream",
     "text": [
      "\r",
      "                                                                                \r"
     ]
    }
   ],
   "source": [
    "# Calculate the total number of tweets in the dataset\n",
    "sum_all_tweets = spark.sql(\"\"\"\n",
    "    SELECT COUNT(*) AS total_tweets\n",
    "    FROM tweets\n",
    "\"\"\")\n",
    "sum_all_tweets.show()\n"
   ]
  },
  {
   "cell_type": "code",
   "execution_count": 12,
   "id": "79c1c493",
   "metadata": {},
   "outputs": [
    {
     "name": "stderr",
     "output_type": "stream",
     "text": [
      "[Stage 20:====================================>                     (5 + 2) / 8]\r"
     ]
    },
    {
     "name": "stdout",
     "output_type": "stream",
     "text": [
      "+--------+-----------+\n",
      "|  source|tweet_count|\n",
      "+--------+-----------+\n",
      "|NO_QUERY|    1599999|\n",
      "+--------+-----------+\n",
      "\n"
     ]
    },
    {
     "name": "stderr",
     "output_type": "stream",
     "text": [
      "\r",
      "[Stage 20:===========================================>              (6 + 2) / 8]\r",
      "\r",
      "                                                                                \r"
     ]
    }
   ],
   "source": [
    "# Count the number of tweets by source\n",
    "tweets_by_source = spark.sql(\"\"\"\n",
    "    SELECT source, COUNT(*) AS tweet_count\n",
    "    FROM tweets\n",
    "    GROUP BY source\n",
    "\"\"\")\n",
    "tweets_by_source.show()\n"
   ]
  },
  {
   "cell_type": "code",
   "execution_count": 13,
   "id": "3c17e591",
   "metadata": {},
   "outputs": [
    {
     "name": "stderr",
     "output_type": "stream",
     "text": [
      "                                                                                \r"
     ]
    }
   ],
   "source": [
    "avg_tweets_by_user.write.format(\"mongo\").mode(\"overwrite\").option(\"database\", \"myNewDatabase\").option(\"collection\", \"avgTweetsByUser\").save()\n"
   ]
  },
  {
   "cell_type": "code",
   "execution_count": 14,
   "id": "b168b6da",
   "metadata": {},
   "outputs": [
    {
     "name": "stderr",
     "output_type": "stream",
     "text": [
      "                                                                                \r"
     ]
    }
   ],
   "source": [
    "total_tweets_per_year_by_user.write.format(\"mongo\").mode(\"overwrite\").option(\"database\", \"myNewDatabase\").option(\"collection\", \"totalTweetsPerYearByUser\").save()\n"
   ]
  },
  {
   "cell_type": "code",
   "execution_count": 15,
   "id": "10e8cd34",
   "metadata": {},
   "outputs": [
    {
     "name": "stderr",
     "output_type": "stream",
     "text": [
      "                                                                                \r"
     ]
    }
   ],
   "source": [
    "sum_all_tweets.write.format(\"mongo\").mode(\"overwrite\").option(\"database\", \"myNewDatabase\").option(\"collection\", \"sumAllTweets\").save()\n"
   ]
  },
  {
   "cell_type": "code",
   "execution_count": 16,
   "id": "2c268515",
   "metadata": {},
   "outputs": [
    {
     "name": "stderr",
     "output_type": "stream",
     "text": [
      "[Stage 35:==================================================>       (7 + 1) / 8]\r"
     ]
    },
    {
     "name": "stdout",
     "output_type": "stream",
     "text": [
      "+----------+-----------+\n",
      "|tweet_date|tweet_count|\n",
      "+----------+-----------+\n",
      "|      NULL|    1599999|\n",
      "+----------+-----------+\n",
      "\n"
     ]
    },
    {
     "name": "stderr",
     "output_type": "stream",
     "text": [
      "\r",
      "                                                                                \r"
     ]
    }
   ],
   "source": [
    "# Tweets per day\n",
    "tweets_per_day = spark.sql(\"\"\"\n",
    "    SELECT DATE(date) AS tweet_date, COUNT(*) AS tweet_count\n",
    "    FROM tweets\n",
    "    GROUP BY tweet_date\n",
    "    ORDER BY tweet_date\n",
    "\"\"\")\n",
    "tweets_per_day.show()\n"
   ]
  },
  {
   "cell_type": "code",
   "execution_count": 17,
   "id": "7a68778a",
   "metadata": {},
   "outputs": [
    {
     "name": "stderr",
     "output_type": "stream",
     "text": [
      "[Stage 38:==================================================>       (7 + 1) / 8]\r"
     ]
    },
    {
     "name": "stdout",
     "output_type": "stream",
     "text": [
      "+----------------+-----+\n",
      "|            word|count|\n",
      "+----------------+-----+\n",
      "|   #followfriday| 1827|\n",
      "|             #fb| 1728|\n",
      "|    #squarespace|  818|\n",
      "|        #seb-day|  498|\n",
      "|             #FF|  497|\n",
      "|               #|  472|\n",
      "|   #FollowFriday|  407|\n",
      "|              #1|  391|\n",
      "|    #musicmonday|  382|\n",
      "|   #iranelection|  337|\n",
      "|             #ff|  325|\n",
      "|           #fail|  288|\n",
      "|            #BSB|  273|\n",
      "|      #iremember|  263|\n",
      "|     #myweakness|  259|\n",
      "|        #asot400|  254|\n",
      "|   #marsiscoming|  244|\n",
      "|#mcflyforgermany|  230|\n",
      "|              #2|  214|\n",
      "|  #andyhurleyday|  187|\n",
      "+----------------+-----+\n",
      "only showing top 20 rows\n",
      "\n"
     ]
    },
    {
     "name": "stderr",
     "output_type": "stream",
     "text": [
      "\r",
      "                                                                                \r"
     ]
    }
   ],
   "source": [
    "from pyspark.sql.functions import explode, split\n",
    "\n",
    "# count hashtags in tweet content\n",
    "hashtags = df.select(explode(split(df.text, ' ')).alias('word')) \\\n",
    "    .filter(\"word LIKE '#%'\") \\\n",
    "    .groupBy('word') \\\n",
    "    .count() \\\n",
    "    .orderBy('count', ascending=False)\n",
    "\n",
    "hashtags.show()\n"
   ]
  },
  {
   "cell_type": "code",
   "execution_count": 18,
   "id": "f3fe4e54",
   "metadata": {},
   "outputs": [
    {
     "name": "stderr",
     "output_type": "stream",
     "text": [
      "[Stage 41:==================================================>       (7 + 1) / 8]\r"
     ]
    },
    {
     "name": "stdout",
     "output_type": "stream",
     "text": [
      "+-----------------+\n",
      "|       avg_length|\n",
      "+-----------------+\n",
      "|74.09008505630317|\n",
      "+-----------------+\n",
      "\n"
     ]
    },
    {
     "name": "stderr",
     "output_type": "stream",
     "text": [
      "\r",
      "                                                                                \r"
     ]
    }
   ],
   "source": [
    "avg_tweet_length = spark.sql(\"\"\"\n",
    "    SELECT AVG(LENGTH(text)) AS avg_length\n",
    "    FROM tweets\n",
    "\"\"\")\n",
    "avg_tweet_length.show()\n"
   ]
  },
  {
   "cell_type": "code",
   "execution_count": 19,
   "id": "312dc3e9",
   "metadata": {},
   "outputs": [
    {
     "name": "stderr",
     "output_type": "stream",
     "text": [
      "[Stage 44:===========================================>              (6 + 2) / 8]\r"
     ]
    },
    {
     "name": "stdout",
     "output_type": "stream",
     "text": [
      "+----+-------+\n",
      "|hour|  count|\n",
      "+----+-------+\n",
      "|NULL|1599999|\n",
      "+----+-------+\n",
      "\n"
     ]
    },
    {
     "name": "stderr",
     "output_type": "stream",
     "text": [
      "\r",
      "[Stage 44:==================================================>       (7 + 1) / 8]\r",
      "\r",
      "                                                                                \r"
     ]
    }
   ],
   "source": [
    "from pyspark.sql.functions import hour\n",
    "\n",
    "tweets_per_hour = df.withColumn('hour', hour(df.date)) \\\n",
    "    .groupBy('hour') \\\n",
    "    .count() \\\n",
    "    .orderBy('hour')\n",
    "\n",
    "tweets_per_hour.show()\n"
   ]
  },
  {
   "cell_type": "code",
   "execution_count": 20,
   "id": "a89ac6a9",
   "metadata": {},
   "outputs": [
    {
     "name": "stderr",
     "output_type": "stream",
     "text": [
      "[Stage 47:==================================================>       (7 + 1) / 8]\r"
     ]
    },
    {
     "name": "stdout",
     "output_type": "stream",
     "text": [
      "+---------------+------------+\n",
      "|       username|tweets_count|\n",
      "+---------------+------------+\n",
      "|       lost_dog|         549|\n",
      "|        webwoke|         345|\n",
      "|       tweetpet|         310|\n",
      "|SallytheShizzle|         281|\n",
      "|    VioletsCRUK|         279|\n",
      "|    mcraddictal|         276|\n",
      "|       tsarnick|         248|\n",
      "|    what_bugs_u|         246|\n",
      "|    Karen230683|         238|\n",
      "|      DarkPiano|         236|\n",
      "|   SongoftheOss|         227|\n",
      "|      Jayme1988|         225|\n",
      "|         keza34|         219|\n",
      "| ramdomthoughts|         216|\n",
      "|      shanajaca|         213|\n",
      "|         wowlew|         212|\n",
      "|   TraceyHewins|         211|\n",
      "|     nuttychris|         211|\n",
      "|   thisgoeshere|         207|\n",
      "|     Spidersamm|         205|\n",
      "+---------------+------------+\n",
      "only showing top 20 rows\n",
      "\n"
     ]
    },
    {
     "name": "stderr",
     "output_type": "stream",
     "text": [
      "\r",
      "                                                                                \r"
     ]
    }
   ],
   "source": [
    "user_engagement = spark.sql(\"\"\"\n",
    "    SELECT username, COUNT(*) AS tweets_count\n",
    "    FROM tweets\n",
    "    GROUP BY username\n",
    "    ORDER BY tweets_count DESC\n",
    "\"\"\")\n",
    "user_engagement.show()\n"
   ]
  },
  {
   "cell_type": "code",
   "execution_count": 22,
   "id": "1edeb882",
   "metadata": {},
   "outputs": [
    {
     "name": "stderr",
     "output_type": "stream",
     "text": [
      "                                                                                \r"
     ]
    }
   ],
   "source": [
    "# Tweets per Day\n",
    "tweets_per_day.write.format(\"mongo\").mode(\"overwrite\").option(\"database\", \"myNewDatabase\").option(\"collection\", \"tweetsPerDay\").save()\n",
    "\n",
    "#  Most Popular Hashtags\n",
    "hashtags.write.format(\"mongo\").mode(\"overwrite\").option(\"database\", \"myNewDatabase\").option(\"collection\", \"popularHashtags\").save()\n",
    "\n",
    "# Average Tweet Length\n",
    "avg_tweet_length.write.format(\"mongo\").mode(\"overwrite\").option(\"database\", \"myNewDatabase\").option(\"collection\", \"avgTweetLength\").save()\n",
    "\n",
    "# Tweets Per Hour\n",
    "tweets_per_hour.write.format(\"mongo\").mode(\"overwrite\").option(\"database\", \"myNewDatabase\").option(\"collection\", \"tweetsPerHour\").save()\n",
    "\n",
    "#  User Engagement\n",
    "user_engagement.write.format(\"mongo\").mode(\"overwrite\").option(\"database\", \"myNewDatabase\").option(\"collection\", \"UserEngagement\").save()\n"
   ]
  },
  {
   "cell_type": "code",
   "execution_count": 23,
   "id": "eed07fe1",
   "metadata": {},
   "outputs": [],
   "source": [
    "# Stop the Spark session\n",
    "spark.stop()"
   ]
  },
  {
   "cell_type": "code",
   "execution_count": 24,
   "id": "54e57d2d",
   "metadata": {},
   "outputs": [],
   "source": [
    "from pyspark.sql import SparkSession\n",
    "\n",
    "# Initialize Spark Session\n",
    "spark = SparkSession.builder \\\n",
    "    .appName(\"Extract Data from MongoDB\") \\\n",
    "    .config(\"spark.mongodb.input.uri\", \"mongodb://127.0.0.1:27017/myNewDatabase.myCollection\") \\\n",
    "    .config(\"spark.jars.packages\", \"org.mongodb.spark:mongo-spark-connector_2.12:10.0.0\") \\\n",
    "    .getOrCreate()\n"
   ]
  },
  {
   "cell_type": "code",
   "execution_count": 25,
   "id": "69386ed4",
   "metadata": {},
   "outputs": [
    {
     "name": "stderr",
     "output_type": "stream",
     "text": [
      "                                                                                \r"
     ]
    }
   ],
   "source": [
    "# Read data from MongoDB\n",
    "df = spark.read.format(\"mongo\").option(\"database\", \"myNewDatabase\").option(\"collection\", \"myCollection\").load()\n"
   ]
  },
  {
   "cell_type": "code",
   "execution_count": 28,
   "id": "764a077c",
   "metadata": {},
   "outputs": [
    {
     "name": "stdout",
     "output_type": "stream",
     "text": [
      "+--------------------+--------------------+-------------------+--------+--------------------+----------+--------+-------------+\n",
      "|                 _id|                date|     formatted_date|  source|                text| timestamp|tweet_id|     username|\n",
      "+--------------------+--------------------+-------------------+--------+--------------------+----------+--------+-------------+\n",
      "|{662d16a353867b39...|Mon Apr 06 22:19:...|2009-04-07 06:19:49|NO_QUERY|is upset that he ...|1467810672|       1|scotthamilton|\n",
      "|{662d16a353867b39...|Mon Apr 06 22:19:...|2009-04-07 06:19:53|NO_QUERY|@Kenichan I dived...|1467810917|       2|     mattycus|\n",
      "|{662d16a353867b39...|Mon Apr 06 22:19:...|2009-04-07 06:19:57|NO_QUERY|my whole body fee...|1467811184|       3|      ElleCTF|\n",
      "|{662d16a353867b39...|Mon Apr 06 22:19:...|2009-04-07 06:19:57|NO_QUERY|@nationwideclass ...|1467811193|       4|       Karoli|\n",
      "|{662d16a353867b39...|Mon Apr 06 22:20:...|2009-04-07 06:20:00|NO_QUERY|@Kwesidei not the...|1467811372|       5|     joy_wolf|\n",
      "+--------------------+--------------------+-------------------+--------+--------------------+----------+--------+-------------+\n",
      "only showing top 5 rows\n",
      "\n"
     ]
    }
   ],
   "source": [
    "df.show(5)"
   ]
  },
  {
   "cell_type": "code",
   "execution_count": 29,
   "id": "2f60a1ba",
   "metadata": {},
   "outputs": [],
   "source": [
    "from pyspark.sql.functions import col "
   ]
  },
  {
   "cell_type": "code",
   "execution_count": 30,
   "id": "4cbb5064",
   "metadata": {},
   "outputs": [
    {
     "name": "stderr",
     "output_type": "stream",
     "text": [
      "                                                                                \r"
     ]
    }
   ],
   "source": [
    "# Convert ID to string to avoid CSV format issues\n",
    "df = df.withColumn(\"_id\", col(\"_id\").cast(\"string\"))\n",
    "\n",
    "# Write DataFrame to CSV, now including\n",
    "df.write.format(\"csv\").option(\"header\", \"true\").mode(\"overwrite\").save(\"/home/hduser/Documents/output.csv\")\n",
    "\n",
    "spark.stop()"
   ]
  },
  {
   "cell_type": "code",
   "execution_count": 73,
   "id": "95601b8a",
   "metadata": {},
   "outputs": [],
   "source": [
    "from pyspark.sql import SparkSession\n",
    "from pyspark.sql.types import StructType, StructField, StringType, IntegerType\n",
    "\n",
    "spark = SparkSession.builder \\\n",
    "    .appName(\"Handle CSV Errors\") \\\n",
    "    .getOrCreate()\n",
    "\n",
    "schema = StructType([\n",
    "    StructField(\"tweet_id\", IntegerType(), True),\n",
    "    StructField(\"timestamp\", IntegerType(), True),\n",
    "    StructField(\"date\", StringType(), True),\n",
    "    StructField(\"source\", StringType(), True),\n",
    "    StructField(\"username\", StringType(), True),\n",
    "    StructField(\"text\", StringType(), True),\n",
    "    StructField(\"_id\", StringType(), True)  \n",
    "\n"
   ]
  },
  {
   "cell_type": "code",
   "execution_count": 74,
   "id": "7950179e",
   "metadata": {},
   "outputs": [
    {
     "name": "stdout",
     "output_type": "stream",
     "text": [
      "+--------------------+--------------------+-------------------+--------+--------------------+----------+--------+---------------+\n",
      "|                 _id|                date|     formatted_date|  source|                text| timestamp|tweet_id|       username|\n",
      "+--------------------+--------------------+-------------------+--------+--------------------+----------+--------+---------------+\n",
      "|{662d16a353867b39...|Mon Apr 06 22:19:...|2009-04-07 06:19:49|NO_QUERY|is upset that he ...|1467810672|       1|  scotthamilton|\n",
      "|{662d16a353867b39...|Mon Apr 06 22:19:...|2009-04-07 06:19:53|NO_QUERY|@Kenichan I dived...|1467810917|       2|       mattycus|\n",
      "|{662d16a353867b39...|Mon Apr 06 22:19:...|2009-04-07 06:19:57|NO_QUERY|my whole body fee...|1467811184|       3|        ElleCTF|\n",
      "|{662d16a353867b39...|Mon Apr 06 22:19:...|2009-04-07 06:19:57|NO_QUERY|@nationwideclass ...|1467811193|       4|         Karoli|\n",
      "|{662d16a353867b39...|Mon Apr 06 22:20:...|2009-04-07 06:20:00|NO_QUERY|@Kwesidei not the...|1467811372|       5|       joy_wolf|\n",
      "|{662d16a353867b39...|Mon Apr 06 22:20:...|2009-04-07 06:20:03|NO_QUERY|          Need a hug|1467811592|       6|        mybirch|\n",
      "|{662d16a353867b39...|Mon Apr 06 22:20:...|2009-04-07 06:20:03|NO_QUERY|@LOLTrish hey  lo...|1467811594|       7|           coZZ|\n",
      "|{662d16a353867b39...|Mon Apr 06 22:20:...|2009-04-07 06:20:05|NO_QUERY|@Tatiana_K nope t...|1467811795|       8|2Hood4Hollywood|\n",
      "|{662d16a353867b39...|Mon Apr 06 22:20:...|2009-04-07 06:20:09|NO_QUERY|@twittera que me ...|1467812025|       9|        mimismo|\n",
      "|{662d16a353867b39...|Mon Apr 06 22:20:...|2009-04-07 06:20:16|NO_QUERY|spring break in p...|1467812416|      10| erinx3leannexo|\n",
      "|{662d16a353867b39...|Mon Apr 06 22:20:...|2009-04-07 06:20:17|NO_QUERY|I just re-pierced...|1467812579|      11|   pardonlauren|\n",
      "|{662d16a353867b39...|Mon Apr 06 22:20:...|2009-04-07 06:20:19|NO_QUERY|@caregiving I cou...|1467812723|      12|           TLeC|\n",
      "|{662d16a353867b39...|Mon Apr 06 22:20:...|2009-04-07 06:20:19|NO_QUERY|@octolinz16 It it...|1467812771|      13|robrobbierobert|\n",
      "|{662d16a353867b39...|Mon Apr 06 22:20:...|2009-04-07 06:20:20|NO_QUERY|@smarrison i woul...|1467812784|      14|    bayofwolves|\n",
      "|{662d16a353867b39...|Mon Apr 06 22:20:...|2009-04-07 06:20:20|NO_QUERY|@iamjazzyfizzle I...|1467812799|      15|     HairByJess|\n",
      "|{662d16a353867b39...|Mon Apr 06 22:20:...|2009-04-07 06:20:22|NO_QUERY|Hollis' death sce...|1467812964|      16| lovesongwriter|\n",
      "|{662d16a353867b39...|Mon Apr 06 22:20:...|2009-04-07 06:20:25|NO_QUERY| about to file taxes|1467813137|      17|       armotley|\n",
      "|{662d16a353867b39...|Mon Apr 06 22:20:...|2009-04-07 06:20:31|NO_QUERY|@LettyA ahh ive a...|1467813579|      18|     starkissed|\n",
      "|{662d16a353867b39...|Mon Apr 06 22:20:...|2009-04-07 06:20:34|NO_QUERY|@FakerPattyPattz ...|1467813782|      19|      gi_gi_bee|\n",
      "|{662d16a353867b39...|Mon Apr 06 22:20:...|2009-04-07 06:20:37|NO_QUERY|@alydesigns i was...|1467813985|      20|         quanvu|\n",
      "+--------------------+--------------------+-------------------+--------+--------------------+----------+--------+---------------+\n",
      "only showing top 20 rows\n",
      "\n",
      "root\n",
      " |-- _id: string (nullable = true)\n",
      " |-- date: string (nullable = true)\n",
      " |-- formatted_date: timestamp (nullable = true)\n",
      " |-- source: string (nullable = true)\n",
      " |-- text: string (nullable = true)\n",
      " |-- timestamp: integer (nullable = true)\n",
      " |-- tweet_id: integer (nullable = true)\n",
      " |-- username: string (nullable = true)\n",
      "\n"
     ]
    }
   ],
   "source": [
    "df = spark.read.format(\"csv\") \\\n",
    "    .option(\"header\", \"true\") \\\n",
    "    .option(\"mode\", \"PERMISSIVE\") \\\n",
    "    .option(\"inferSchema\", \"true\") \\\n",
    "    .load('/home/hduser/Documents/output.csv/part-00000-d4c2134f-2700-4c2a-ab82-0e8f78a7d92c-c000.csv')\n",
    "\n",
    "df.show()\n",
    "df.printSchema()\n"
   ]
  },
  {
   "cell_type": "code",
   "execution_count": 75,
   "id": "4c944d81",
   "metadata": {},
   "outputs": [
    {
     "name": "stdout",
     "output_type": "stream",
     "text": [
      "+-------+--------------------+--------------------+--------+--------------------+--------------------+------------------+--------------------+\n",
      "|summary|                 _id|                date|  source|                text|           timestamp|          tweet_id|            username|\n",
      "+-------+--------------------+--------------------+--------+--------------------+--------------------+------------------+--------------------+\n",
      "|  count|               20474|               20474|   20474|               20474|               20474|             20474|               20474|\n",
      "|   mean|                NULL|                NULL|    NULL|                NULL|1.5176975913237765E9|352224.26643547916|1.3866486142857144E7|\n",
      "| stddev|                NULL|                NULL|    NULL|                NULL| 4.147425881937609E7| 402766.1648313895|2.0388733592846226E7|\n",
      "|    min|{662d16a353867b39...|Fri Apr 17 20:30:...|NO_QUERY|#3 woke up and wa...|          1467810672|                 1|           007simple|\n",
      "|    max|{662d16a353867b39...|Tue Apr 07 08:46:...|NO_QUERY|ï¿½ber sick  Tryi...|          1556359349|            824913|               zzzum|\n",
      "+-------+--------------------+--------------------+--------+--------------------+--------------------+------------------+--------------------+\n",
      "\n"
     ]
    }
   ],
   "source": [
    "df.describe().show()\n"
   ]
  },
  {
   "cell_type": "code",
   "execution_count": 76,
   "id": "8d782723",
   "metadata": {},
   "outputs": [
    {
     "name": "stdout",
     "output_type": "stream",
     "text": [
      "+-----+-----+--------------+------+-----+---------+--------+--------+\n",
      "|  _id| date|formatted_date|source| text|timestamp|tweet_id|username|\n",
      "+-----+-----+--------------+------+-----+---------+--------+--------+\n",
      "|false|false|         false| false|false|    false|   false|   false|\n",
      "|false|false|         false| false|false|    false|   false|   false|\n",
      "|false|false|         false| false|false|    false|   false|   false|\n",
      "|false|false|         false| false|false|    false|   false|   false|\n",
      "|false|false|         false| false|false|    false|   false|   false|\n",
      "|false|false|         false| false|false|    false|   false|   false|\n",
      "|false|false|         false| false|false|    false|   false|   false|\n",
      "|false|false|         false| false|false|    false|   false|   false|\n",
      "|false|false|         false| false|false|    false|   false|   false|\n",
      "|false|false|         false| false|false|    false|   false|   false|\n",
      "|false|false|         false| false|false|    false|   false|   false|\n",
      "|false|false|         false| false|false|    false|   false|   false|\n",
      "|false|false|         false| false|false|    false|   false|   false|\n",
      "|false|false|         false| false|false|    false|   false|   false|\n",
      "|false|false|         false| false|false|    false|   false|   false|\n",
      "|false|false|         false| false|false|    false|   false|   false|\n",
      "|false|false|         false| false|false|    false|   false|   false|\n",
      "|false|false|         false| false|false|    false|   false|   false|\n",
      "|false|false|         false| false|false|    false|   false|   false|\n",
      "|false|false|         false| false|false|    false|   false|   false|\n",
      "+-----+-----+--------------+------+-----+---------+--------+--------+\n",
      "only showing top 20 rows\n",
      "\n"
     ]
    }
   ],
   "source": [
    "from pyspark.sql.functions import col\n",
    "\n",
    "df.select([col(c).isNull().alias(c) for c in df.columns]).show()\n"
   ]
  },
  {
   "cell_type": "code",
   "execution_count": 77,
   "id": "f1455ee7",
   "metadata": {},
   "outputs": [
    {
     "name": "stdout",
     "output_type": "stream",
     "text": [
      "+--------------------+--------------------+-------------------+--------+--------------------+----------+--------+---------------+--------------------+\n",
      "|                 _id|                date|     formatted_date|  source|                text| timestamp|tweet_id|       username|          text_clean|\n",
      "+--------------------+--------------------+-------------------+--------+--------------------+----------+--------+---------------+--------------------+\n",
      "|{662d16a353867b39...|Mon Apr 06 22:19:...|2009-04-07 06:19:49|NO_QUERY|is upset that he ...|1467810672|       1|  scotthamilton|is upset that he ...|\n",
      "|{662d16a353867b39...|Mon Apr 06 22:19:...|2009-04-07 06:19:53|NO_QUERY|@Kenichan I dived...|1467810917|       2|       mattycus|Kenichan I dived ...|\n",
      "|{662d16a353867b39...|Mon Apr 06 22:19:...|2009-04-07 06:19:57|NO_QUERY|my whole body fee...|1467811184|       3|        ElleCTF|my whole body fee...|\n",
      "|{662d16a353867b39...|Mon Apr 06 22:19:...|2009-04-07 06:19:57|NO_QUERY|@nationwideclass ...|1467811193|       4|         Karoli|nationwideclass n...|\n",
      "|{662d16a353867b39...|Mon Apr 06 22:20:...|2009-04-07 06:20:00|NO_QUERY|@Kwesidei not the...|1467811372|       5|       joy_wolf|Kwesidei not the ...|\n",
      "|{662d16a353867b39...|Mon Apr 06 22:20:...|2009-04-07 06:20:03|NO_QUERY|          Need a hug|1467811592|       6|        mybirch|          Need a hug|\n",
      "|{662d16a353867b39...|Mon Apr 06 22:20:...|2009-04-07 06:20:03|NO_QUERY|@LOLTrish hey  lo...|1467811594|       7|           coZZ|LOLTrish hey  lon...|\n",
      "|{662d16a353867b39...|Mon Apr 06 22:20:...|2009-04-07 06:20:05|NO_QUERY|@Tatiana_K nope t...|1467811795|       8|2Hood4Hollywood|Tatiana_K nope th...|\n",
      "|{662d16a353867b39...|Mon Apr 06 22:20:...|2009-04-07 06:20:09|NO_QUERY|@twittera que me ...|1467812025|       9|        mimismo|twittera que me m...|\n",
      "|{662d16a353867b39...|Mon Apr 06 22:20:...|2009-04-07 06:20:16|NO_QUERY|spring break in p...|1467812416|      10| erinx3leannexo|spring break in p...|\n",
      "|{662d16a353867b39...|Mon Apr 06 22:20:...|2009-04-07 06:20:17|NO_QUERY|I just re-pierced...|1467812579|      11|   pardonlauren|I just repierced ...|\n",
      "|{662d16a353867b39...|Mon Apr 06 22:20:...|2009-04-07 06:20:19|NO_QUERY|@caregiving I cou...|1467812723|      12|           TLeC|caregiving I coul...|\n",
      "|{662d16a353867b39...|Mon Apr 06 22:20:...|2009-04-07 06:20:19|NO_QUERY|@octolinz16 It it...|1467812771|      13|robrobbierobert|octolinz16 It it ...|\n",
      "|{662d16a353867b39...|Mon Apr 06 22:20:...|2009-04-07 06:20:20|NO_QUERY|@smarrison i woul...|1467812784|      14|    bayofwolves|smarrison i would...|\n",
      "|{662d16a353867b39...|Mon Apr 06 22:20:...|2009-04-07 06:20:20|NO_QUERY|@iamjazzyfizzle I...|1467812799|      15|     HairByJess|iamjazzyfizzle I ...|\n",
      "|{662d16a353867b39...|Mon Apr 06 22:20:...|2009-04-07 06:20:22|NO_QUERY|Hollis' death sce...|1467812964|      16| lovesongwriter|Hollis death scen...|\n",
      "|{662d16a353867b39...|Mon Apr 06 22:20:...|2009-04-07 06:20:25|NO_QUERY| about to file taxes|1467813137|      17|       armotley| about to file taxes|\n",
      "|{662d16a353867b39...|Mon Apr 06 22:20:...|2009-04-07 06:20:31|NO_QUERY|@LettyA ahh ive a...|1467813579|      18|     starkissed|LettyA ahh ive al...|\n",
      "|{662d16a353867b39...|Mon Apr 06 22:20:...|2009-04-07 06:20:34|NO_QUERY|@FakerPattyPattz ...|1467813782|      19|      gi_gi_bee|FakerPattyPattz O...|\n",
      "|{662d16a353867b39...|Mon Apr 06 22:20:...|2009-04-07 06:20:37|NO_QUERY|@alydesigns i was...|1467813985|      20|         quanvu|alydesigns i was ...|\n",
      "+--------------------+--------------------+-------------------+--------+--------------------+----------+--------+---------------+--------------------+\n",
      "only showing top 20 rows\n",
      "\n"
     ]
    }
   ],
   "source": [
    "from pyspark.sql.functions import regexp_replace\n",
    "\n",
    "df = df.withColumn(\"text_clean\", regexp_replace(\"text\", \"[^\\\\w\\\\s]\", \"\"))\n",
    "df.show()\n"
   ]
  },
  {
   "cell_type": "code",
   "execution_count": 78,
   "id": "1aecfe3b",
   "metadata": {},
   "outputs": [
    {
     "name": "stdout",
     "output_type": "stream",
     "text": [
      "+--------------------+--------------------+-------------------+--------+--------------------+----------+--------+-------------+--------------------+\n",
      "|                 _id|                date|     formatted_date|  source|                text| timestamp|tweet_id|     username|          text_clean|\n",
      "+--------------------+--------------------+-------------------+--------+--------------------+----------+--------+-------------+--------------------+\n",
      "|{662d16a353867b39...|Mon Apr 06 22:19:...|2009-04-07 06:19:49|NO_QUERY|is upset that he ...|1467810672|       1|scotthamilton|[is, upset, that,...|\n",
      "|{662d16a353867b39...|Mon Apr 06 22:19:...|2009-04-07 06:19:53|NO_QUERY|@Kenichan I dived...|1467810917|       2|     mattycus|[Kenichan, I, div...|\n",
      "|{662d16a353867b39...|Mon Apr 06 22:19:...|2009-04-07 06:19:57|NO_QUERY|my whole body fee...|1467811184|       3|      ElleCTF|[my, whole, body,...|\n",
      "|{662d16a353867b39...|Mon Apr 06 22:19:...|2009-04-07 06:19:57|NO_QUERY|@nationwideclass ...|1467811193|       4|       Karoli|[nationwideclass,...|\n",
      "|{662d16a353867b39...|Mon Apr 06 22:20:...|2009-04-07 06:20:00|NO_QUERY|@Kwesidei not the...|1467811372|       5|     joy_wolf|[Kwesidei, not, t...|\n",
      "+--------------------+--------------------+-------------------+--------+--------------------+----------+--------+-------------+--------------------+\n",
      "only showing top 5 rows\n",
      "\n"
     ]
    }
   ],
   "source": [
    "from pyspark.sql.functions import split\n",
    "\n",
    "df = df.withColumn(\"text_clean\", split(col(\"text_clean\"), \"\\\\s+\"))\n",
    "df.show(5)\n"
   ]
  },
  {
   "cell_type": "code",
   "execution_count": 79,
   "id": "9a47a025",
   "metadata": {},
   "outputs": [
    {
     "name": "stderr",
     "output_type": "stream",
     "text": [
      "[nltk_data] Downloading package wordnet to /home/hduser/nltk_data...\n",
      "[nltk_data]   Package wordnet is already up-to-date!\n",
      "[nltk_data] Downloading package omw-1.4 to /home/hduser/nltk_data...\n",
      "[nltk_data]   Package omw-1.4 is already up-to-date!\n",
      "24/05/11 10:44:53 WARN SparkSession: Using an existing Spark session; only runtime SQL configurations will take effect.\n",
      "/usr/lib/python3/dist-packages/scipy/__init__.py:146: UserWarning: A NumPy version >=1.17.3 and <1.25.0 is required for this version of SciPy (detected version 1.26.3\n",
      "  warnings.warn(f\"A NumPy version >={np_minversion} and <{np_maxversion}\"\n",
      "[Stage 9:>                                                          (0 + 1) / 1]\r"
     ]
    },
    {
     "name": "stdout",
     "output_type": "stream",
     "text": [
      "+--------------------------+----------------------------+-------------------+--------+---------------------------------------------------------------------------------------------------------------------+----------+--------+---------------+-------------------------------------------------------------------------------------------------------------------------------+-------------------------------------------------------------------------------------------------------------+-------------------------------------------------------------------------------------------------------------------------------+-------------------------------------------------------------------------------------------------------------+-------------------------------------------------------------------------------------------------------------------------------+---------------+\n",
      "|_id                       |date                        |formatted_date     |source  |text                                                                                                                 |timestamp |tweet_id|username       |text_clean                                                                                                                     |text_no_punct                                                                                                |text_tokens                                                                                                                    |text_no_emojis                                                                                               |text_lemmatized                                                                                                                |contains_emojis|\n",
      "+--------------------------+----------------------------+-------------------+--------+---------------------------------------------------------------------------------------------------------------------+----------+--------+---------------+-------------------------------------------------------------------------------------------------------------------------------+-------------------------------------------------------------------------------------------------------------+-------------------------------------------------------------------------------------------------------------------------------+-------------------------------------------------------------------------------------------------------------+-------------------------------------------------------------------------------------------------------------------------------+---------------+\n",
      "|{662d16a353867b398f1bb6fe}|Mon Apr 06 22:19:49 PDT 2009|2009-04-07 06:19:49|NO_QUERY|is upset that he can't update his Facebook by texting it... and might cry as a result  School today also. Blah!      |1467810672|1       |scotthamilton  |[is, upset, that, he, cant, update, his, Facebook, by, texting, it, and, might, cry, as, a, result, School, today, also, Blah] |is upset that he cant update his Facebook by texting it and might cry as a result  School today also Blah    |[is, upset, that, he, cant, update, his, Facebook, by, texting, it, and, might, cry, as, a, result, School, today, also, Blah] |is upset that he cant update his Facebook by texting it and might cry as a result  School today also Blah    |[is, upset, that, he, cant, update, his, Facebook, by, texting, it, and, might, cry, a, a, result, School, today, also, Blah]  |false          |\n",
      "|{662d16a353867b398f1bb6ff}|Mon Apr 06 22:19:53 PDT 2009|2009-04-07 06:19:53|NO_QUERY|@Kenichan I dived many times for the ball. Managed to save 50%  The rest go out of bounds                            |1467810917|2       |mattycus       |[Kenichan, I, dived, many, times, for, the, ball, Managed, to, save, 50, The, rest, go, out, of, bounds]                       |Kenichan I dived many times for the ball Managed to save 50  The rest go out of bounds                       |[Kenichan, I, dived, many, times, for, the, ball, Managed, to, save, 50, The, rest, go, out, of, bounds]                       |Kenichan I dived many times for the ball Managed to save   The rest go out of bounds                         |[Kenichan, I, dived, many, time, for, the, ball, Managed, to, save, 50, The, rest, go, out, of, bound]                         |true           |\n",
      "|{662d16a353867b398f1bb700}|Mon Apr 06 22:19:57 PDT 2009|2009-04-07 06:19:57|NO_QUERY|my whole body feels itchy and like its on fire                                                                       |1467811184|3       |ElleCTF        |[my, whole, body, feels, itchy, and, like, its, on, fire]                                                                      |my whole body feels itchy and like its on fire                                                               |[my, whole, body, feels, itchy, and, like, its, on, fire]                                                                      |my whole body feels itchy and like its on fire                                                               |[my, whole, body, feel, itchy, and, like, it, on, fire]                                                                        |false          |\n",
      "|{662d16a353867b398f1bb701}|Mon Apr 06 22:19:57 PDT 2009|2009-04-07 06:19:57|NO_QUERY|@nationwideclass no, it's not behaving at all. i'm mad. why am i here? because I can't see you all over there.       |1467811193|4       |Karoli         |[nationwideclass, no, its, not, behaving, at, all, im, mad, why, am, i, here, because, I, cant, see, you, all, over, there]    |nationwideclass no its not behaving at all im mad why am i here because I cant see you all over there        |[nationwideclass, no, its, not, behaving, at, all, im, mad, why, am, i, here, because, I, cant, see, you, all, over, there]    |nationwideclass no its not behaving at all im mad why am i here because I cant see you all over there        |[nationwideclass, no, it, not, behaving, at, all, im, mad, why, am, i, here, because, I, cant, see, you, all, over, there]     |false          |\n",
      "|{662d16a353867b398f1bb702}|Mon Apr 06 22:20:00 PDT 2009|2009-04-07 06:20:00|NO_QUERY|@Kwesidei not the whole crew                                                                                         |1467811372|5       |joy_wolf       |[Kwesidei, not, the, whole, crew]                                                                                              |Kwesidei not the whole crew                                                                                  |[Kwesidei, not, the, whole, crew]                                                                                              |Kwesidei not the whole crew                                                                                  |[Kwesidei, not, the, whole, crew]                                                                                              |false          |\n",
      "|{662d16a353867b398f1bb703}|Mon Apr 06 22:20:03 PDT 2009|2009-04-07 06:20:03|NO_QUERY|Need a hug                                                                                                           |1467811592|6       |mybirch        |[Need, a, hug]                                                                                                                 |Need a hug                                                                                                   |[Need, a, hug]                                                                                                                 |Need a hug                                                                                                   |[Need, a, hug]                                                                                                                 |false          |\n",
      "|{662d16a353867b398f1bb704}|Mon Apr 06 22:20:03 PDT 2009|2009-04-07 06:20:03|NO_QUERY|@LOLTrish hey  long time no see! Yes.. Rains a bit ,only a bit  LOL , I'm fine thanks , how's you ?                  |1467811594|7       |coZZ           |[LOLTrish, hey, long, time, no, see, Yes, Rains, a, bit, only, a, bit, LOL, Im, fine, thanks, hows, you, ]                     |LOLTrish hey  long time no see Yes Rains a bit only a bit  LOL  Im fine thanks  hows you                     |[LOLTrish, hey, long, time, no, see, Yes, Rains, a, bit, only, a, bit, LOL, Im, fine, thanks, hows, you]                       |LOLTrish hey  long time no see Yes Rains a bit only a bit  LOL  Im fine thanks  hows you                     |[LOLTrish, hey, long, time, no, see, Yes, Rains, a, bit, only, a, bit, LOL, Im, fine, thanks, hows, you]                       |false          |\n",
      "|{662d16a353867b398f1bb705}|Mon Apr 06 22:20:05 PDT 2009|2009-04-07 06:20:05|NO_QUERY|@Tatiana_K nope they didn't have it                                                                                  |1467811795|8       |2Hood4Hollywood|[Tatiana_K, nope, they, didnt, have, it]                                                                                       |TatianaK nope they didnt have it                                                                             |[TatianaK, nope, they, didnt, have, it]                                                                                        |TatianaK nope they didnt have it                                                                             |[TatianaK, nope, they, didnt, have, it]                                                                                        |false          |\n",
      "|{662d16a353867b398f1bb706}|Mon Apr 06 22:20:09 PDT 2009|2009-04-07 06:20:09|NO_QUERY|@twittera que me muera ?                                                                                             |1467812025|9       |mimismo        |[twittera, que, me, muera, ]                                                                                                   |twittera que me muera                                                                                        |[twittera, que, me, muera]                                                                                                     |twittera que me muera                                                                                        |[twittera, que, me, muera]                                                                                                     |false          |\n",
      "|{662d16a353867b398f1bb707}|Mon Apr 06 22:20:16 PDT 2009|2009-04-07 06:20:16|NO_QUERY|spring break in plain city... it's snowing                                                                           |1467812416|10      |erinx3leannexo |[spring, break, in, plain, city, its, snowing]                                                                                 |spring break in plain city its snowing                                                                       |[spring, break, in, plain, city, its, snowing]                                                                                 |spring break in plain city its snowing                                                                       |[spring, break, in, plain, city, it, snowing]                                                                                  |false          |\n",
      "|{662d16a353867b398f1bb708}|Mon Apr 06 22:20:17 PDT 2009|2009-04-07 06:20:17|NO_QUERY|I just re-pierced my ears                                                                                            |1467812579|11      |pardonlauren   |[I, just, repierced, my, ears]                                                                                                 |I just repierced my ears                                                                                     |[I, just, repierced, my, ears]                                                                                                 |I just repierced my ears                                                                                     |[I, just, repierced, my, ear]                                                                                                  |false          |\n",
      "|{662d16a353867b398f1bb709}|Mon Apr 06 22:20:19 PDT 2009|2009-04-07 06:20:19|NO_QUERY|@caregiving I couldn't bear to watch it.  And I thought the UA loss was embarrassing . . . . .                       |1467812723|12      |TLeC           |[caregiving, I, couldnt, bear, to, watch, it, And, I, thought, the, UA, loss, was, embarrassing, ]                             |caregiving I couldnt bear to watch it  And I thought the UA loss was embarrassing                            |[caregiving, I, couldnt, bear, to, watch, it, And, I, thought, the, UA, loss, was, embarrassing]                               |caregiving I couldnt bear to watch it  And I thought the UA loss was embarrassing                            |[caregiving, I, couldnt, bear, to, watch, it, And, I, thought, the, UA, loss, wa, embarrassing]                                |false          |\n",
      "|{662d16a353867b398f1bb70a}|Mon Apr 06 22:20:19 PDT 2009|2009-04-07 06:20:19|NO_QUERY|@octolinz16 It it counts, idk why I did either. you never talk to me anymore                                         |1467812771|13      |robrobbierobert|[octolinz16, It, it, counts, idk, why, I, did, either, you, never, talk, to, me, anymore]                                      |octolinz16 It it counts idk why I did either you never talk to me anymore                                    |[octolinz16, It, it, counts, idk, why, I, did, either, you, never, talk, to, me, anymore]                                      |octolinz It it counts idk why I did either you never talk to me anymore                                      |[octolinz16, It, it, count, idk, why, I, did, either, you, never, talk, to, me, anymore]                                       |true           |\n",
      "|{662d16a353867b398f1bb70b}|Mon Apr 06 22:20:20 PDT 2009|2009-04-07 06:20:20|NO_QUERY|@smarrison i would've been the first, but i didn't have a gun.    not really though, zac snyder's just a doucheclown.|1467812784|14      |bayofwolves    |[smarrison, i, wouldve, been, the, first, but, i, didnt, have, a, gun, not, really, though, zac, snyders, just, a, doucheclown]|smarrison i wouldve been the first but i didnt have a gun    not really though zac snyders just a doucheclown|[smarrison, i, wouldve, been, the, first, but, i, didnt, have, a, gun, not, really, though, zac, snyders, just, a, doucheclown]|smarrison i wouldve been the first but i didnt have a gun    not really though zac snyders just a doucheclown|[smarrison, i, wouldve, been, the, first, but, i, didnt, have, a, gun, not, really, though, zac, snyders, just, a, doucheclown]|false          |\n",
      "|{662d16a353867b398f1bb70c}|Mon Apr 06 22:20:20 PDT 2009|2009-04-07 06:20:20|NO_QUERY|@iamjazzyfizzle I wish I got to watch it with you!! I miss you and @iamlilnicki  how was the premiere?!              |1467812799|15      |HairByJess     |[iamjazzyfizzle, I, wish, I, got, to, watch, it, with, you, I, miss, you, and, iamlilnicki, how, was, the, premiere]           |iamjazzyfizzle I wish I got to watch it with you I miss you and iamlilnicki  how was the premiere            |[iamjazzyfizzle, I, wish, I, got, to, watch, it, with, you, I, miss, you, and, iamlilnicki, how, was, the, premiere]           |iamjazzyfizzle I wish I got to watch it with you I miss you and iamlilnicki  how was the premiere            |[iamjazzyfizzle, I, wish, I, got, to, watch, it, with, you, I, miss, you, and, iamlilnicki, how, wa, the, premiere]            |false          |\n",
      "|{662d16a353867b398f1bb70d}|Mon Apr 06 22:20:22 PDT 2009|2009-04-07 06:20:22|NO_QUERY|Hollis' death scene will hurt me severely to watch on film  wry is directors cut not out now?                        |1467812964|16      |lovesongwriter |[Hollis, death, scene, will, hurt, me, severely, to, watch, on, film, wry, is, directors, cut, not, out, now]                  |Hollis death scene will hurt me severely to watch on film  wry is directors cut not out now                  |[Hollis, death, scene, will, hurt, me, severely, to, watch, on, film, wry, is, directors, cut, not, out, now]                  |Hollis death scene will hurt me severely to watch on film  wry is directors cut not out now                  |[Hollis, death, scene, will, hurt, me, severely, to, watch, on, film, wry, is, director, cut, not, out, now]                   |false          |\n",
      "|{662d16a353867b398f1bb70e}|Mon Apr 06 22:20:25 PDT 2009|2009-04-07 06:20:25|NO_QUERY|about to file taxes                                                                                                  |1467813137|17      |armotley       |[about, to, file, taxes]                                                                                                       |about to file taxes                                                                                          |[about, to, file, taxes]                                                                                                       |about to file taxes                                                                                          |[about, to, file, tax]                                                                                                         |false          |\n",
      "|{662d16a353867b398f1bb70f}|Mon Apr 06 22:20:31 PDT 2009|2009-04-07 06:20:31|NO_QUERY|@LettyA ahh ive always wanted to see rent  love the soundtrack!!                                                     |1467813579|18      |starkissed     |[LettyA, ahh, ive, always, wanted, to, see, rent, love, the, soundtrack]                                                       |LettyA ahh ive always wanted to see rent  love the soundtrack                                                |[LettyA, ahh, ive, always, wanted, to, see, rent, love, the, soundtrack]                                                       |LettyA ahh ive always wanted to see rent  love the soundtrack                                                |[LettyA, ahh, ive, always, wanted, to, see, rent, love, the, soundtrack]                                                       |false          |\n",
      "|{662d16a353867b398f1bb710}|Mon Apr 06 22:20:34 PDT 2009|2009-04-07 06:20:34|NO_QUERY|@FakerPattyPattz Oh dear. Were you drinking out of the forgotten table drinks?                                       |1467813782|19      |gi_gi_bee      |[FakerPattyPattz, Oh, dear, Were, you, drinking, out, of, the, forgotten, table, drinks]                                       |FakerPattyPattz Oh dear Were you drinking out of the forgotten table drinks                                  |[FakerPattyPattz, Oh, dear, Were, you, drinking, out, of, the, forgotten, table, drinks]                                       |FakerPattyPattz Oh dear Were you drinking out of the forgotten table drinks                                  |[FakerPattyPattz, Oh, dear, Were, you, drinking, out, of, the, forgotten, table, drink]                                        |false          |\n",
      "|{662d16a353867b398f1bb711}|Mon Apr 06 22:20:37 PDT 2009|2009-04-07 06:20:37|NO_QUERY|@alydesigns i was out most of the day so didn't get much done                                                        |1467813985|20      |quanvu         |[alydesigns, i, was, out, most, of, the, day, so, didnt, get, much, done]                                                      |alydesigns i was out most of the day so didnt get much done                                                  |[alydesigns, i, was, out, most, of, the, day, so, didnt, get, much, done]                                                      |alydesigns i was out most of the day so didnt get much done                                                  |[alydesigns, i, wa, out, most, of, the, day, so, didnt, get, much, done]                                                       |false          |\n",
      "+--------------------------+----------------------------+-------------------+--------+---------------------------------------------------------------------------------------------------------------------+----------+--------+---------------+-------------------------------------------------------------------------------------------------------------------------------+-------------------------------------------------------------------------------------------------------------+-------------------------------------------------------------------------------------------------------------------------------+-------------------------------------------------------------------------------------------------------------+-------------------------------------------------------------------------------------------------------------------------------+---------------+\n",
      "only showing top 20 rows\n",
      "\n"
     ]
    },
    {
     "name": "stderr",
     "output_type": "stream",
     "text": [
      "\r",
      "                                                                                \r"
     ]
    }
   ],
   "source": [
    "from pyspark.sql import SparkSession\n",
    "from pyspark.sql.functions import udf, col\n",
    "from pyspark.sql.types import StringType, ArrayType, BooleanType\n",
    "import string\n",
    "import regex as re\n",
    "from nltk.stem import WordNetLemmatizer\n",
    "import nltk\n",
    "\n",
    "nltk.download('wordnet')\n",
    "nltk.download('omw-1.4')\n",
    "\n",
    "# Start Spark session\n",
    "spark = SparkSession.builder.appName(\"Text Processing\").getOrCreate()\n",
    "\n",
    "# Define UDFs\n",
    "def remove_punctuation(text):\n",
    "    if text is None:\n",
    "        return None\n",
    "    return ''.join([char for char in text if char not in string.punctuation])\n",
    "\n",
    "remove_punctuation_udf = udf(remove_punctuation, StringType())\n",
    "\n",
    "def tokenize(text):\n",
    "    if text is None:\n",
    "        return []\n",
    "    return text.split()\n",
    "\n",
    "tokenize_udf = udf(tokenize, ArrayType(StringType()))\n",
    "\n",
    "def has_emojis(text):\n",
    "    if text is None:\n",
    "        return False\n",
    "    emoji_pattern = re.compile(\"[\\p{Emoji}]\", re.UNICODE)\n",
    "    return bool(emoji_pattern.search(text))\n",
    "\n",
    "has_emojis_udf = udf(has_emojis, BooleanType())\n",
    "\n",
    "def remove_emojis(text):\n",
    "    if text is None:\n",
    "        return None\n",
    "    emoji_pattern = re.compile(\"[\\p{Emoji}]\", re.UNICODE)\n",
    "    return emoji_pattern.sub('', text)\n",
    "\n",
    "remove_emojis_udf = udf(remove_emojis, StringType())\n",
    "\n",
    "wnl = WordNetLemmatizer()\n",
    "def lemmatize(words):\n",
    "    if words is None:\n",
    "        return []\n",
    "    return [wnl.lemmatize(word) for word in words]\n",
    "\n",
    "lemmatize_udf = udf(lemmatize, ArrayType(StringType()))\n",
    "\n",
    "\n",
    "# Apply transformations\n",
    "df = df.withColumn(\"text_no_punct\", remove_punctuation_udf(col(\"text\")))\n",
    "df = df.withColumn(\"text_tokens\", tokenize_udf(col(\"text_no_punct\")))\n",
    "df = df.withColumn(\"text_no_emojis\", remove_emojis_udf(col(\"text_no_punct\")))\n",
    "df = df.withColumn(\"text_lemmatized\", lemmatize_udf(col(\"text_tokens\")))\n",
    "df = df.withColumn(\"contains_emojis\", has_emojis_udf(col(\"text\")))\n",
    "\n",
    "# Show the DataFrame to verify results\n",
    "df.show(truncate=False)\n",
    "\n"
   ]
  },
  {
   "cell_type": "code",
   "execution_count": 80,
   "id": "c9ba1d93",
   "metadata": {},
   "outputs": [],
   "source": [
    "from nltk.stem import WordNetLemmatizer\n",
    "wnl = WordNetLemmatizer()\n",
    "\n",
    "def lemmatization(words):\n",
    "    return [wnl.lemmatize(word, pos='v') for word in words]\n",
    "\n",
    "lemmatization_udf = udf(lemmatization, ArrayType(StringType()))\n",
    "\n",
    "df = df.withColumn(\"text_clean\", lemmatization_udf(col(\"text_clean\")))\n"
   ]
  },
  {
   "cell_type": "code",
   "execution_count": 81,
   "id": "4b0b534f",
   "metadata": {},
   "outputs": [],
   "source": [
    "from pyspark.sql.functions import concat_ws\n",
    "\n",
    "df = df.drop(\"text\")\n",
    "df = df.withColumn(\"text_clean\", concat_ws(\" \", col(\"text_clean\")))\n"
   ]
  },
  {
   "cell_type": "code",
   "execution_count": 82,
   "id": "fae06963",
   "metadata": {},
   "outputs": [
    {
     "name": "stderr",
     "output_type": "stream",
     "text": [
      "/usr/lib/python3/dist-packages/scipy/__init__.py:146: UserWarning: A NumPy version >=1.17.3 and <1.25.0 is required for this version of SciPy (detected version 1.26.3\n",
      "  warnings.warn(f\"A NumPy version >={np_minversion} and <{np_maxversion}\"\n",
      "[Stage 10:>                                                         (0 + 1) / 1]\r"
     ]
    },
    {
     "name": "stdout",
     "output_type": "stream",
     "text": [
      "+--------------------+--------------------+-------------------+--------+----------+--------+-------------+--------------------+--------------------+--------------------+--------------------+--------------------+---------------+\n",
      "|                 _id|                date|     formatted_date|  source| timestamp|tweet_id|     username|          text_clean|       text_no_punct|         text_tokens|      text_no_emojis|     text_lemmatized|contains_emojis|\n",
      "+--------------------+--------------------+-------------------+--------+----------+--------+-------------+--------------------+--------------------+--------------------+--------------------+--------------------+---------------+\n",
      "|{662d16a353867b39...|Mon Apr 06 22:19:...|2009-04-07 06:19:49|NO_QUERY|1467810672|       1|scotthamilton|be upset that he ...|is upset that he ...|[is, upset, that,...|is upset that he ...|[is, upset, that,...|          false|\n",
      "|{662d16a353867b39...|Mon Apr 06 22:19:...|2009-04-07 06:19:53|NO_QUERY|1467810917|       2|     mattycus|Kenichan I dive m...|Kenichan I dived ...|[Kenichan, I, div...|Kenichan I dived ...|[Kenichan, I, div...|           true|\n",
      "|{662d16a353867b39...|Mon Apr 06 22:19:...|2009-04-07 06:19:57|NO_QUERY|1467811184|       3|      ElleCTF|my whole body fee...|my whole body fee...|[my, whole, body,...|my whole body fee...|[my, whole, body,...|          false|\n",
      "|{662d16a353867b39...|Mon Apr 06 22:19:...|2009-04-07 06:19:57|NO_QUERY|1467811193|       4|       Karoli|nationwideclass n...|nationwideclass n...|[nationwideclass,...|nationwideclass n...|[nationwideclass,...|          false|\n",
      "|{662d16a353867b39...|Mon Apr 06 22:20:...|2009-04-07 06:20:00|NO_QUERY|1467811372|       5|     joy_wolf|Kwesidei not the ...|Kwesidei not the ...|[Kwesidei, not, t...|Kwesidei not the ...|[Kwesidei, not, t...|          false|\n",
      "+--------------------+--------------------+-------------------+--------+----------+--------+-------------+--------------------+--------------------+--------------------+--------------------+--------------------+---------------+\n",
      "only showing top 5 rows\n",
      "\n"
     ]
    },
    {
     "name": "stderr",
     "output_type": "stream",
     "text": [
      "\r",
      "                                                                                \r"
     ]
    }
   ],
   "source": [
    "df.show(5)"
   ]
  },
  {
   "cell_type": "code",
   "execution_count": 83,
   "id": "cad093c3",
   "metadata": {},
   "outputs": [],
   "source": [
    "from pyspark.sql import SparkSession\n",
    "from pyspark.sql.functions import col, from_unixtime, to_date, date_format\n",
    "from pyspark.sql import Window\n",
    "import matplotlib.pyplot as plt"
   ]
  },
  {
   "cell_type": "code",
   "execution_count": 84,
   "id": "fd00204d",
   "metadata": {},
   "outputs": [],
   "source": [
    "# Convert 'timestamp' from Unix time to datetime\n",
    "df = df.withColumn(\"datetime\", from_unixtime(col(\"timestamp\")))"
   ]
  },
  {
   "cell_type": "code",
   "execution_count": 85,
   "id": "0bf0fdd0",
   "metadata": {},
   "outputs": [],
   "source": [
    "# Set 'datetime' as the type of the 'datetime' column\n",
    "df = df.withColumn(\"date\", to_date(col(\"datetime\")))"
   ]
  },
  {
   "cell_type": "code",
   "execution_count": 86,
   "id": "4d79eab6",
   "metadata": {},
   "outputs": [],
   "source": [
    "# Group by date and count tweets per day\n",
    "daily_tweets = df.groupBy(\"date\").count().orderBy(\"date\")"
   ]
  },
  {
   "cell_type": "code",
   "execution_count": 87,
   "id": "0c541759",
   "metadata": {},
   "outputs": [
    {
     "name": "stdout",
     "output_type": "stream",
     "text": [
      "+----------+-----+\n",
      "|      date|count|\n",
      "+----------+-----+\n",
      "|2016-07-06|  155|\n",
      "|2016-07-07|  326|\n",
      "|2016-07-08|  355|\n",
      "|2016-07-09|  362|\n",
      "|2016-07-10|  392|\n",
      "|2016-07-11|  388|\n",
      "|2016-07-12|  401|\n",
      "|2016-07-13|  409|\n",
      "|2016-07-14|  389|\n",
      "|2016-07-15|  375|\n",
      "|2016-07-16|  395|\n",
      "|2016-07-17|  391|\n",
      "|2016-07-18|  355|\n",
      "|2016-07-19|  327|\n",
      "|2016-07-20|  326|\n",
      "|2016-07-21|  275|\n",
      "|2016-07-22|  280|\n",
      "|2016-07-23|  260|\n",
      "|2016-07-24|  219|\n",
      "|2016-07-25|  220|\n",
      "+----------+-----+\n",
      "only showing top 20 rows\n",
      "\n"
     ]
    }
   ],
   "source": [
    "daily_tweets.show()"
   ]
  },
  {
   "cell_type": "code",
   "execution_count": 88,
   "id": "7ad1f9bd",
   "metadata": {},
   "outputs": [],
   "source": [
    "# Collect the data to the driver in-memory for plotting\n",
    "daily_tweet_counts = daily_tweets.toPandas().set_index(\"date\")"
   ]
  },
  {
   "cell_type": "code",
   "execution_count": 89,
   "id": "ec1241ef",
   "metadata": {},
   "outputs": [
    {
     "data": {
      "image/png": "[encoded data removed]",
      "text/plain": [
       "<Figure size 864x432 with 1 Axes>"
      ]
     },
     "metadata": {
      "needs_background": "light"
     },
     "output_type": "display_data"
    }
   ],
   "source": [
    "# Plot the daily tweet counts to observe trends, seasonality, or outliers\n",
    "plt.figure(figsize=(12, 6))\n",
    "daily_tweet_counts['count'].plot(title='Daily Tweets Count Over Time')\n",
    "plt.xlabel('Date')\n",
    "plt.ylabel('Number of Tweets')\n",
    "plt.show()\n"
   ]
  },
  {
   "cell_type": "code",
   "execution_count": 93,
   "id": "481e3f13",
   "metadata": {},
   "outputs": [],
   "source": [
    "# Stop the session\n",
    "spark.stop()\n"
   ]
  },
  {
   "cell_type": "code",
   "execution_count": null,
   "id": "7c646207",
   "metadata": {},
   "outputs": [],
   "source": []
  }
 ],
 "metadata": {
  "kernelspec": {
   "display_name": "Python 3 (ipykernel)",
   "language": "python",
   "name": "python3"
  },
  "language_info": {
   "codemirror_mode": {
    "name": "ipython",
    "version": 3
   },
   "file_extension": ".py",
   "mimetype": "text/x-python",
   "name": "python",
   "nbconvert_exporter": "python",
   "pygments_lexer": "ipython3",
   "version": "3.10.12"
  }
 },
 "nbformat": 4,
 "nbformat_minor": 5
}
